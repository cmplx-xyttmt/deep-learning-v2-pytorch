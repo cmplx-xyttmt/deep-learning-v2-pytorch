{
 "cells": [
  {
   "cell_type": "code",
   "execution_count": 1,
   "metadata": {},
   "outputs": [],
   "source": [
    "import torch"
   ]
  },
  {
   "cell_type": "code",
   "execution_count": 2,
   "metadata": {},
   "outputs": [
    {
     "data": {
      "text/plain": [
       "'1.1.0'"
      ]
     },
     "execution_count": 2,
     "metadata": {},
     "output_type": "execute_result"
    }
   ],
   "source": [
    "torch.version.__version__"
   ]
  },
  {
   "cell_type": "code",
   "execution_count": 3,
   "metadata": {},
   "outputs": [
    {
     "name": "stdout",
     "output_type": "stream",
     "text": [
      "False\n",
      "False\n"
     ]
    }
   ],
   "source": [
    "# Use the is_tensor function to determine if an object is a tensor; \n",
    "# and the is_storage function to determine if the object is stored as a tensor object.\n",
    "x = [12, 23, 34, 45, 56, 67, 78]\n",
    "print(torch.is_tensor(x))\n",
    "print(torch.is_storage(x))"
   ]
  },
  {
   "cell_type": "code",
   "execution_count": 6,
   "metadata": {},
   "outputs": [
    {
     "name": "stdout",
     "output_type": "stream",
     "text": [
      "True\n",
      "False\n",
      "120\n",
      "tensor([[[[[ 0.1957, -1.1616, -2.2407,  1.4773,  0.3299],\n",
      "           [-0.0850, -0.1796, -0.6816,  0.6376,  0.8041],\n",
      "           [-2.7564,  1.3620, -0.4152, -0.8041,  1.4258],\n",
      "           [-0.6252,  1.0070, -0.7854, -2.0223, -0.4808]],\n",
      "\n",
      "          [[ 0.3483,  0.4977, -0.3990,  0.6215,  1.0356],\n",
      "           [-0.6930,  0.0432,  0.7943, -0.3625, -0.9949],\n",
      "           [-1.3600, -1.4755,  1.5723, -0.0958,  1.1034],\n",
      "           [-0.5018,  1.9340,  0.6172, -0.6023,  0.4596]],\n",
      "\n",
      "          [[-0.5658,  1.2779,  0.2967,  0.0228,  0.4519],\n",
      "           [ 1.3782, -0.5201,  0.4230, -0.9931, -0.4458],\n",
      "           [-0.7673, -0.7991,  0.7956,  0.2314,  0.8945],\n",
      "           [ 1.1767, -1.0164,  0.5960, -0.0356,  2.0683]]],\n",
      "\n",
      "\n",
      "         [[[-0.0051, -1.3464, -0.0119,  0.1816, -0.9579],\n",
      "           [-0.5032, -0.2433, -0.3062, -0.4361,  1.6707],\n",
      "           [-0.3909,  0.5357,  0.2655, -0.9876,  1.1629],\n",
      "           [-0.2842,  1.5866, -1.1945,  0.5805, -0.3611]],\n",
      "\n",
      "          [[-0.2229, -0.0942, -0.0291,  0.1406,  1.9693],\n",
      "           [ 0.3915,  0.1489, -0.9133, -0.7782,  1.4939],\n",
      "           [ 0.1265,  0.4584, -0.9995, -0.3165,  0.3827],\n",
      "           [-1.3908, -0.1690, -0.9815,  0.7375,  0.4102]],\n",
      "\n",
      "          [[ 0.0364, -0.5419, -0.5118, -1.9530,  1.4640],\n",
      "           [-1.0867, -0.0464, -0.3825,  0.7904,  0.7107],\n",
      "           [-1.5321, -0.2182,  0.1029,  1.1588,  1.2832],\n",
      "           [-0.9078, -0.0157, -0.4224, -1.0914, -0.9611]]]]])\n"
     ]
    }
   ],
   "source": [
    "y = torch.randn(1, 2, 3, 4, 5)\n",
    "print(torch.is_tensor(y))\n",
    "print(torch.is_storage(y))\n",
    "print(torch.numel(y)) # the total number of elements in the input Tensor.\n",
    "print(y)"
   ]
  },
  {
   "cell_type": "code",
   "execution_count": 7,
   "metadata": {},
   "outputs": [
    {
     "name": "stdout",
     "output_type": "stream",
     "text": [
      "tensor([[0., 0., 0., 0.],\n",
      "        [0., 0., 0., 0.],\n",
      "        [0., 0., 0., 0.],\n",
      "        [0., 0., 0., 0.]])\n",
      "16\n"
     ]
    }
   ],
   "source": [
    "# Zeros\n",
    "zeros = torch.zeros(4, 4)\n",
    "print(zeros)\n",
    "print(torch.numel(zeros))"
   ]
  },
  {
   "cell_type": "code",
   "execution_count": 8,
   "metadata": {},
   "outputs": [
    {
     "name": "stdout",
     "output_type": "stream",
     "text": [
      "tensor([[1., 0., 0., 0., 0.],\n",
      "        [0., 1., 0., 0., 0.],\n",
      "        [0., 0., 1., 0., 0.],\n",
      "        [0., 0., 0., 1., 0.],\n",
      "        [0., 0., 0., 0., 1.]])\n",
      "tensor([[1., 0., 0., 0.],\n",
      "        [0., 1., 0., 0.],\n",
      "        [0., 0., 1., 0.]])\n",
      "tensor([[1., 0., 0., 0.],\n",
      "        [0., 1., 0., 0.],\n",
      "        [0., 0., 1., 0.],\n",
      "        [0., 0., 0., 1.],\n",
      "        [0., 0., 0., 0.]])\n"
     ]
    }
   ],
   "source": [
    "# Eye function\n",
    "print(torch.eye(5, 5))\n",
    "print(torch.eye(3, 4))\n",
    "print(torch.eye(5, 4))"
   ]
  },
  {
   "cell_type": "code",
   "execution_count": 10,
   "metadata": {},
   "outputs": [
    {
     "name": "stdout",
     "output_type": "stream",
     "text": [
      "[12 23 34 45 56 67 78] <class 'numpy.ndarray'> (7,)\n",
      "tensor([12, 23, 34, 45, 56, 67, 78]) <class 'torch.Tensor'> torch.Size([7])\n",
      "tensor([ 2.0000,  2.3333,  2.6667,  3.0000,  3.3333,  3.6667,  4.0000,  4.3333,\n",
      "         4.6667,  5.0000,  5.3333,  5.6667,  6.0000,  6.3333,  6.6667,  7.0000,\n",
      "         7.3333,  7.6667,  8.0000,  8.3333,  8.6667,  9.0000,  9.3333,  9.6667,\n",
      "        10.0000]) <class 'torch.Tensor'> torch.Size([25])\n"
     ]
    }
   ],
   "source": [
    "# Torch to/from numpy and Linear space\n",
    "import numpy as np\n",
    "x1 = np.array(x)\n",
    "print(x1, type(x1), x1.shape)\n",
    "x1Tensor = torch.from_numpy(x1)\n",
    "print(x1Tensor, type(x1Tensor), x1Tensor.shape)\n",
    "lin_space = torch.linspace(2, 10, steps=25)\n",
    "print(lin_space, type(lin_space), lin_space.shape) # linear spacing"
   ]
  },
  {
   "cell_type": "code",
   "execution_count": 12,
   "metadata": {},
   "outputs": [
    {
     "name": "stdout",
     "output_type": "stream",
     "text": [
      "tensor([1.0000e+09, 1.1788e+09, 1.3895e+09, 1.6379e+09, 1.9307e+09, 2.2758e+09,\n",
      "        2.6827e+09, 3.1623e+09, 3.7276e+09, 4.3940e+09, 5.1795e+09, 6.1054e+09,\n",
      "        7.1969e+09, 8.4834e+09, 1.0000e+10])\n"
     ]
    }
   ],
   "source": [
    "# Logarithmic spacing\n",
    "print(torch.logspace(start=9, end=10, steps=15))"
   ]
  },
  {
   "cell_type": "code",
   "execution_count": 23,
   "metadata": {},
   "outputs": [
    {
     "name": "stdout",
     "output_type": "stream",
     "text": [
      "tensor([0.1000, 0.6459, 0.6419, 0.3410, 0.4390, 0.4184, 0.2822, 0.2383, 0.5010,\n",
      "        0.7445])\n",
      "tensor([[0.7213, 0.9834, 0.1336, 0.9183, 0.3061],\n",
      "        [0.8406, 0.6131, 0.8829, 0.9730, 0.6791],\n",
      "        [0.6696, 0.6810, 0.8056, 0.9010, 0.9439],\n",
      "        [0.5936, 0.2820, 0.5426, 0.8331, 0.5661]])\n",
      "tensor([ 0.5357,  0.4510, -0.8890, -1.8737, -1.3647,  1.4939,  0.6971,  1.1302,\n",
      "        -1.3600, -0.0080])\n",
      "tensor([[-0.3284, -0.5529,  0.3431, -0.6210, -1.0279],\n",
      "        [-0.3180, -1.1858,  1.5628,  0.1834,  1.7585],\n",
      "        [-0.9580,  0.3613, -0.6790, -0.6933, -0.5171],\n",
      "        [-1.4878,  0.5048, -0.2774,  0.3384,  1.7581]])\n"
     ]
    }
   ],
   "source": [
    "# random numbers from a uniform distribution between the values 0 and 1\n",
    "print(torch.rand(10))\n",
    "\n",
    "# random numbers between 0 and 1 in a 4 x 5 matrix\n",
    "print(torch.rand(4, 5))\n",
    "\n",
    "# random numbers from a normal distribution with mean = 0 and standard deviation = 1\n",
    "print(torch.randn(10))\n",
    "print(torch.randn(4, 5))"
   ]
  },
  {
   "cell_type": "code",
   "execution_count": 24,
   "metadata": {},
   "outputs": [
    {
     "name": "stdout",
     "output_type": "stream",
     "text": [
      "tensor([9, 7, 0, 3, 8, 6, 5, 2, 1, 4])\n",
      "tensor([10, 12, 14, 16, 18, 20, 22, 24, 26, 28, 30, 32, 34, 36, 38])\n",
      "tensor([10, 11, 12, 13, 14, 15, 16, 17, 18, 19, 20, 21, 22, 23, 24, 25, 26, 27,\n",
      "        28, 29, 30, 31, 32, 33, 34, 35, 36, 37, 38, 39])\n"
     ]
    }
   ],
   "source": [
    "# Selecting a random permutation\n",
    "print(torch.randperm(10))\n",
    "# Usage of range function\n",
    "print(torch.arange(10, 40, 2)) # step size 2\n",
    "print(torch.arange(10, 40)) # default step size 1"
   ]
  },
  {
   "cell_type": "code",
   "execution_count": 28,
   "metadata": {},
   "outputs": [
    {
     "name": "stdout",
     "output_type": "stream",
     "text": [
      "tensor([[ 0.6816,  0.5239, -0.6765,  0.6766, -0.0924],\n",
      "        [ 0.0220, -0.0401, -0.6755,  0.6057, -0.5965],\n",
      "        [-0.5940,  0.8579, -0.6586,  1.4356,  0.8060],\n",
      "        [ 1.4001, -0.2421,  0.2064, -0.2389,  0.0429]])\n",
      "tensor([2, 2, 2, 1])\n"
     ]
    }
   ],
   "source": [
    "# Finding the minimum and maximum values in a 1D tensor;\n",
    "d = torch.randn(4, 5)\n",
    "print(d)\n",
    "print(torch.argmin(d, dim=1)) # Need to specify dimension in order to search along rows or columns (0 for columns, 1 for rows)"
   ]
  },
  {
   "cell_type": "code",
   "execution_count": null,
   "metadata": {},
   "outputs": [],
   "source": [
    "# Indexing and concactenation"
   ]
  }
 ],
 "metadata": {
  "kernelspec": {
   "display_name": "Python 3",
   "language": "python",
   "name": "python3"
  },
  "language_info": {
   "codemirror_mode": {
    "name": "ipython",
    "version": 3
   },
   "file_extension": ".py",
   "mimetype": "text/x-python",
   "name": "python",
   "nbconvert_exporter": "python",
   "pygments_lexer": "ipython3",
   "version": "3.7.3"
  }
 },
 "nbformat": 4,
 "nbformat_minor": 2
}
